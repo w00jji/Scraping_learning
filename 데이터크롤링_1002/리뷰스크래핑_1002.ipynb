{
 "cells": [
  {
   "cell_type": "markdown",
   "id": "d2f68c2c-a366-4b19-a127-9a77db617c81",
   "metadata": {},
   "source": [
    "## 리뷰 스크래핑"
   ]
  },
  {
   "cell_type": "code",
   "execution_count": 5,
   "id": "eae579d9-1dce-49e5-a358-7158cea3a1d1",
   "metadata": {
    "collapsed": true,
    "jupyter": {
     "outputs_hidden": true
    }
   },
   "outputs": [
    {
     "name": "stdout",
     "output_type": "stream",
     "text": [
      "Requirement already satisfied: selenium in c:\\users\\campus4d046\\anaconda3\\lib\\site-packages (4.22.0)\n",
      "Requirement already satisfied: urllib3<3,>=1.26 in c:\\users\\campus4d046\\anaconda3\\lib\\site-packages (from urllib3[socks]<3,>=1.26->selenium) (2.0.7)\n",
      "Requirement already satisfied: trio~=0.17 in c:\\users\\campus4d046\\anaconda3\\lib\\site-packages (from selenium) (0.25.1)\n",
      "Requirement already satisfied: trio-websocket~=0.9 in c:\\users\\campus4d046\\anaconda3\\lib\\site-packages (from selenium) (0.11.1)\n",
      "Requirement already satisfied: certifi>=2021.10.8 in c:\\users\\campus4d046\\anaconda3\\lib\\site-packages (from selenium) (2024.6.2)\n",
      "Requirement already satisfied: typing_extensions>=4.9.0 in c:\\users\\campus4d046\\anaconda3\\lib\\site-packages (from selenium) (4.9.0)\n",
      "Requirement already satisfied: websocket-client>=1.8.0 in c:\\users\\campus4d046\\anaconda3\\lib\\site-packages (from selenium) (1.8.0)\n",
      "Requirement already satisfied: attrs>=23.2.0 in c:\\users\\campus4d046\\anaconda3\\lib\\site-packages (from trio~=0.17->selenium) (23.2.0)\n",
      "Requirement already satisfied: sortedcontainers in c:\\users\\campus4d046\\anaconda3\\lib\\site-packages (from trio~=0.17->selenium) (2.4.0)\n",
      "Requirement already satisfied: idna in c:\\users\\campus4d046\\anaconda3\\lib\\site-packages (from trio~=0.17->selenium) (3.4)\n",
      "Requirement already satisfied: outcome in c:\\users\\campus4d046\\anaconda3\\lib\\site-packages (from trio~=0.17->selenium) (1.3.0.post0)\n",
      "Requirement already satisfied: sniffio>=1.3.0 in c:\\users\\campus4d046\\anaconda3\\lib\\site-packages (from trio~=0.17->selenium) (1.3.0)\n",
      "Requirement already satisfied: cffi>=1.14 in c:\\users\\campus4d046\\anaconda3\\lib\\site-packages (from trio~=0.17->selenium) (1.16.0)\n",
      "Requirement already satisfied: wsproto>=0.14 in c:\\users\\campus4d046\\anaconda3\\lib\\site-packages (from trio-websocket~=0.9->selenium) (1.2.0)\n",
      "Requirement already satisfied: pysocks!=1.5.7,<2.0,>=1.5.6 in c:\\users\\campus4d046\\anaconda3\\lib\\site-packages (from urllib3[socks]<3,>=1.26->selenium) (1.7.1)\n",
      "Requirement already satisfied: pycparser in c:\\users\\campus4d046\\anaconda3\\lib\\site-packages (from cffi>=1.14->trio~=0.17->selenium) (2.21)\n",
      "Requirement already satisfied: h11<1,>=0.9.0 in c:\\users\\campus4d046\\anaconda3\\lib\\site-packages (from wsproto>=0.14->trio-websocket~=0.9->selenium) (0.14.0)\n"
     ]
    }
   ],
   "source": [
    "!pip install selenium"
   ]
  },
  {
   "cell_type": "code",
   "execution_count": 7,
   "id": "5046a712-7a08-4f0f-a8a5-ec487899200b",
   "metadata": {
    "collapsed": true,
    "jupyter": {
     "outputs_hidden": true
    },
    "scrolled": true
   },
   "outputs": [
    {
     "name": "stdout",
     "output_type": "stream",
     "text": [
      "Requirement already satisfied: undetected-chromedriver in c:\\users\\campus4d046\\anaconda3\\lib\\site-packages (3.5.5)\n",
      "Requirement already satisfied: selenium>=4.9.0 in c:\\users\\campus4d046\\anaconda3\\lib\\site-packages (from undetected-chromedriver) (4.22.0)\n",
      "Requirement already satisfied: requests in c:\\users\\campus4d046\\anaconda3\\lib\\site-packages (from undetected-chromedriver) (2.31.0)\n",
      "Requirement already satisfied: websockets in c:\\users\\campus4d046\\anaconda3\\lib\\site-packages (from undetected-chromedriver) (13.1)\n",
      "Requirement already satisfied: urllib3<3,>=1.26 in c:\\users\\campus4d046\\anaconda3\\lib\\site-packages (from urllib3[socks]<3,>=1.26->selenium>=4.9.0->undetected-chromedriver) (2.0.7)\n",
      "Requirement already satisfied: trio~=0.17 in c:\\users\\campus4d046\\anaconda3\\lib\\site-packages (from selenium>=4.9.0->undetected-chromedriver) (0.25.1)\n",
      "Requirement already satisfied: trio-websocket~=0.9 in c:\\users\\campus4d046\\anaconda3\\lib\\site-packages (from selenium>=4.9.0->undetected-chromedriver) (0.11.1)\n",
      "Requirement already satisfied: certifi>=2021.10.8 in c:\\users\\campus4d046\\anaconda3\\lib\\site-packages (from selenium>=4.9.0->undetected-chromedriver) (2024.6.2)\n",
      "Requirement already satisfied: typing_extensions>=4.9.0 in c:\\users\\campus4d046\\anaconda3\\lib\\site-packages (from selenium>=4.9.0->undetected-chromedriver) (4.9.0)\n",
      "Requirement already satisfied: websocket-client>=1.8.0 in c:\\users\\campus4d046\\anaconda3\\lib\\site-packages (from selenium>=4.9.0->undetected-chromedriver) (1.8.0)\n",
      "Requirement already satisfied: charset-normalizer<4,>=2 in c:\\users\\campus4d046\\anaconda3\\lib\\site-packages (from requests->undetected-chromedriver) (2.0.4)\n",
      "Requirement already satisfied: idna<4,>=2.5 in c:\\users\\campus4d046\\anaconda3\\lib\\site-packages (from requests->undetected-chromedriver) (3.4)\n",
      "Requirement already satisfied: attrs>=23.2.0 in c:\\users\\campus4d046\\anaconda3\\lib\\site-packages (from trio~=0.17->selenium>=4.9.0->undetected-chromedriver) (23.2.0)\n",
      "Requirement already satisfied: sortedcontainers in c:\\users\\campus4d046\\anaconda3\\lib\\site-packages (from trio~=0.17->selenium>=4.9.0->undetected-chromedriver) (2.4.0)\n",
      "Requirement already satisfied: outcome in c:\\users\\campus4d046\\anaconda3\\lib\\site-packages (from trio~=0.17->selenium>=4.9.0->undetected-chromedriver) (1.3.0.post0)\n",
      "Requirement already satisfied: sniffio>=1.3.0 in c:\\users\\campus4d046\\anaconda3\\lib\\site-packages (from trio~=0.17->selenium>=4.9.0->undetected-chromedriver) (1.3.0)\n",
      "Requirement already satisfied: cffi>=1.14 in c:\\users\\campus4d046\\anaconda3\\lib\\site-packages (from trio~=0.17->selenium>=4.9.0->undetected-chromedriver) (1.16.0)\n",
      "Requirement already satisfied: wsproto>=0.14 in c:\\users\\campus4d046\\anaconda3\\lib\\site-packages (from trio-websocket~=0.9->selenium>=4.9.0->undetected-chromedriver) (1.2.0)\n",
      "Requirement already satisfied: pysocks!=1.5.7,<2.0,>=1.5.6 in c:\\users\\campus4d046\\anaconda3\\lib\\site-packages (from urllib3[socks]<3,>=1.26->selenium>=4.9.0->undetected-chromedriver) (1.7.1)\n",
      "Requirement already satisfied: pycparser in c:\\users\\campus4d046\\anaconda3\\lib\\site-packages (from cffi>=1.14->trio~=0.17->selenium>=4.9.0->undetected-chromedriver) (2.21)\n",
      "Requirement already satisfied: h11<1,>=0.9.0 in c:\\users\\campus4d046\\anaconda3\\lib\\site-packages (from wsproto>=0.14->trio-websocket~=0.9->selenium>=4.9.0->undetected-chromedriver) (0.14.0)\n"
     ]
    }
   ],
   "source": [
    "!pip install undetected-chromedriver"
   ]
  },
  {
   "cell_type": "code",
   "execution_count": 67,
   "id": "77874f53-17c9-458c-abb3-3ac8c98a7afc",
   "metadata": {},
   "outputs": [],
   "source": [
    "import undetected_chromedriver as uc # 감지되지않는 크롬드라이버\n",
    "\n",
    "driver = uc.Chrome()"
   ]
  },
  {
   "cell_type": "code",
   "execution_count": 37,
   "id": "b9fc9207-23b6-4f58-a6d9-58cb05aa74b4",
   "metadata": {},
   "outputs": [
    {
     "data": {
      "text/plain": [
       "[<undetected_chromedriver.webelement.WebElement (session=\"402808987479e4974841a7cd4fb8a841\", element=\"f.1C0853F5E60ADD1C2469479206DD1B88.d.ABD5FF34582F0B4C228864C293235430.e.1591\")>]"
      ]
     },
     "execution_count": 37,
     "metadata": {},
     "output_type": "execute_result"
    }
   ],
   "source": [
    "# 모든 <li class=\"bbsItem\"> 요소를 찾음\n",
    "\n",
    "from selenium import webdriver\n",
    "from selenium.webdriver.common.by import By\n",
    "from selenium.webdriver.common.keys import Keys\n",
    "\n",
    "driver.find_elements(By.CSS_SELECTOR, \"ul.bbsList.commentList\")\n",
    "\n"
   ]
  },
  {
   "cell_type": "code",
   "execution_count": 60,
   "id": "505c2162-2f71-4f10-8c08-30096c6f477f",
   "metadata": {
    "collapsed": true,
    "jupyter": {
     "outputs_hidden": true
    },
    "scrolled": true
   },
   "outputs": [
    {
     "data": {
      "text/plain": [
       "[<undetected_chromedriver.webelement.WebElement (session=\"402808987479e4974841a7cd4fb8a841\", element=\"f.1C0853F5E60ADD1C2469479206DD1B88.d.ABD5FF34582F0B4C228864C293235430.e.1592\")>,\n",
       " <undetected_chromedriver.webelement.WebElement (session=\"402808987479e4974841a7cd4fb8a841\", element=\"f.1C0853F5E60ADD1C2469479206DD1B88.d.ABD5FF34582F0B4C228864C293235430.e.1617\")>,\n",
       " <undetected_chromedriver.webelement.WebElement (session=\"402808987479e4974841a7cd4fb8a841\", element=\"f.1C0853F5E60ADD1C2469479206DD1B88.d.ABD5FF34582F0B4C228864C293235430.e.1642\")>,\n",
       " <undetected_chromedriver.webelement.WebElement (session=\"402808987479e4974841a7cd4fb8a841\", element=\"f.1C0853F5E60ADD1C2469479206DD1B88.d.ABD5FF34582F0B4C228864C293235430.e.1667\")>,\n",
       " <undetected_chromedriver.webelement.WebElement (session=\"402808987479e4974841a7cd4fb8a841\", element=\"f.1C0853F5E60ADD1C2469479206DD1B88.d.ABD5FF34582F0B4C228864C293235430.e.1692\")>,\n",
       " <undetected_chromedriver.webelement.WebElement (session=\"402808987479e4974841a7cd4fb8a841\", element=\"f.1C0853F5E60ADD1C2469479206DD1B88.d.ABD5FF34582F0B4C228864C293235430.e.1716\")>,\n",
       " <undetected_chromedriver.webelement.WebElement (session=\"402808987479e4974841a7cd4fb8a841\", element=\"f.1C0853F5E60ADD1C2469479206DD1B88.d.ABD5FF34582F0B4C228864C293235430.e.1741\")>,\n",
       " <undetected_chromedriver.webelement.WebElement (session=\"402808987479e4974841a7cd4fb8a841\", element=\"f.1C0853F5E60ADD1C2469479206DD1B88.d.ABD5FF34582F0B4C228864C293235430.e.1766\")>,\n",
       " <undetected_chromedriver.webelement.WebElement (session=\"402808987479e4974841a7cd4fb8a841\", element=\"f.1C0853F5E60ADD1C2469479206DD1B88.d.ABD5FF34582F0B4C228864C293235430.e.1791\")>,\n",
       " <undetected_chromedriver.webelement.WebElement (session=\"402808987479e4974841a7cd4fb8a841\", element=\"f.1C0853F5E60ADD1C2469479206DD1B88.d.ABD5FF34582F0B4C228864C293235430.e.1816\")>,\n",
       " <undetected_chromedriver.webelement.WebElement (session=\"402808987479e4974841a7cd4fb8a841\", element=\"f.1C0853F5E60ADD1C2469479206DD1B88.d.ABD5FF34582F0B4C228864C293235430.e.1840\")>,\n",
       " <undetected_chromedriver.webelement.WebElement (session=\"402808987479e4974841a7cd4fb8a841\", element=\"f.1C0853F5E60ADD1C2469479206DD1B88.d.ABD5FF34582F0B4C228864C293235430.e.1865\")>,\n",
       " <undetected_chromedriver.webelement.WebElement (session=\"402808987479e4974841a7cd4fb8a841\", element=\"f.1C0853F5E60ADD1C2469479206DD1B88.d.ABD5FF34582F0B4C228864C293235430.e.1890\")>,\n",
       " <undetected_chromedriver.webelement.WebElement (session=\"402808987479e4974841a7cd4fb8a841\", element=\"f.1C0853F5E60ADD1C2469479206DD1B88.d.ABD5FF34582F0B4C228864C293235430.e.1915\")>,\n",
       " <undetected_chromedriver.webelement.WebElement (session=\"402808987479e4974841a7cd4fb8a841\", element=\"f.1C0853F5E60ADD1C2469479206DD1B88.d.ABD5FF34582F0B4C228864C293235430.e.1940\")>]"
      ]
     },
     "execution_count": 60,
     "metadata": {},
     "output_type": "execute_result"
    }
   ],
   "source": [
    "driver.find_elements(By.CSS_SELECTOR, \"li.bbsItem\")"
   ]
  },
  {
   "cell_type": "code",
   "execution_count": null,
   "id": "6f16434a-de8a-4996-acb2-8769bbd8cc06",
   "metadata": {},
   "outputs": [],
   "source": [
    "driver.find_elements(By.CSS_SELECTOR,'bbsContent')"
   ]
  },
  {
   "cell_type": "code",
   "execution_count": 73,
   "id": "4d875545-51de-4b55-aeaa-905c49ca49d6",
   "metadata": {},
   "outputs": [
    {
     "data": {
      "text/html": [
       "<div>\n",
       "<style scoped>\n",
       "    .dataframe tbody tr th:only-of-type {\n",
       "        vertical-align: middle;\n",
       "    }\n",
       "\n",
       "    .dataframe tbody tr th {\n",
       "        vertical-align: top;\n",
       "    }\n",
       "\n",
       "    .dataframe thead th {\n",
       "        text-align: right;\n",
       "    }\n",
       "</style>\n",
       "<table border=\"1\" class=\"dataframe\">\n",
       "  <thead>\n",
       "    <tr style=\"text-align: right;\">\n",
       "      <th></th>\n",
       "      <th>Date</th>\n",
       "      <th>Title</th>\n",
       "      <th>Content</th>\n",
       "    </tr>\n",
       "  </thead>\n",
       "  <tbody>\n",
       "    <tr>\n",
       "      <th>0</th>\n",
       "      <td>2024.09.17</td>\n",
       "      <td>완전 설레임 두근두근~(♡^--^♡)</td>\n",
       "      <td>시간이가 왜 안가지??\\n빨리 가고 싶어요 헤헿(♡^--^♡)</td>\n",
       "    </tr>\n",
       "    <tr>\n",
       "      <th>1</th>\n",
       "      <td>2024.09.14</td>\n",
       "      <td>보고싶다~</td>\n",
       "      <td>지민이 오늘도 넘보고싶네~\\n기대만땅 전시회!!!</td>\n",
       "    </tr>\n",
       "    <tr>\n",
       "      <th>2</th>\n",
       "      <td>2024.09.13</td>\n",
       "      <td>지민아 사랑해</td>\n",
       "      <td>전시회 가보자구</td>\n",
       "    </tr>\n",
       "    <tr>\n",
       "      <th>3</th>\n",
       "      <td>2024.09.13</td>\n",
       "      <td>짐토버</td>\n",
       "      <td>두근두근 넘 기대된다</td>\n",
       "    </tr>\n",
       "    <tr>\n",
       "      <th>4</th>\n",
       "      <td>2024.09.12</td>\n",
       "      <td>지민 전시회 좋아요</td>\n",
       "      <td>우리 지민이 보고싶다ㅠㅠㅠㅠ 전시회로 나마 만날 수 있어 행복합니다</td>\n",
       "    </tr>\n",
       "    <tr>\n",
       "      <th>5</th>\n",
       "      <td>2024.09.12</td>\n",
       "      <td>나무 너무 기대됨</td>\n",
       "      <td>지민이 전시회 빨리 보고싶다\\n날씨도 딱좋고 기대중</td>\n",
       "    </tr>\n",
       "    <tr>\n",
       "      <th>6</th>\n",
       "      <td>2024.09.12</td>\n",
       "      <td>지민이없는지민이생일전시관람</td>\n",
       "      <td>지민이생일에 전시회에서라도 지민이 볼 수 있어서 행복합니다 :)</td>\n",
       "    </tr>\n",
       "    <tr>\n",
       "      <th>7</th>\n",
       "      <td>2024.09.11</td>\n",
       "      <td>기대된다~</td>\n",
       "      <td>생일 주말은 벌써 매진..\\n아쉽지만 다른 날로 예매완료.\\n지민이 보러 빨리 가고...</td>\n",
       "    </tr>\n",
       "    <tr>\n",
       "      <th>8</th>\n",
       "      <td>2024.09.11</td>\n",
       "      <td>JIMIN??</td>\n",
       "      <td>짐토버에 못가서ㅠ 표를 구할수가 없어서ㅠ 아쉽지만\\n19일이 넘 기대가 된다^^</td>\n",
       "    </tr>\n",
       "    <tr>\n",
       "      <th>9</th>\n",
       "      <td>2024.09.11</td>\n",
       "      <td>Jimin??????</td>\n",
       "      <td>I love you Jimin\\nI look forward to seeing you...</td>\n",
       "    </tr>\n",
       "    <tr>\n",
       "      <th>10</th>\n",
       "      <td>2024.09.11</td>\n",
       "      <td>응 박지민</td>\n",
       "      <td>딱기다려</td>\n",
       "    </tr>\n",
       "    <tr>\n",
       "      <th>11</th>\n",
       "      <td>2024.09.11</td>\n",
       "      <td>드뎌 본다</td>\n",
       "      <td>솔로활동 제대로 보지 못해 아쉬웠는데\\n이렇게라도 볼 수 있다니 넘 기대된다</td>\n",
       "    </tr>\n",
       "    <tr>\n",
       "      <th>12</th>\n",
       "      <td>2024.09.11</td>\n",
       "      <td>지민</td>\n",
       "      <td>너무 기대되네요</td>\n",
       "    </tr>\n",
       "    <tr>\n",
       "      <th>13</th>\n",
       "      <td>2024.09.11</td>\n",
       "      <td>지민아♡</td>\n",
       "      <td>첫날 고고</td>\n",
       "    </tr>\n",
       "    <tr>\n",
       "      <th>14</th>\n",
       "      <td>2024.09.11</td>\n",
       "      <td>생일날 예매완료♡ 딱 기둘</td>\n",
       "      <td>ㅎㅅㅎ♡</td>\n",
       "    </tr>\n",
       "  </tbody>\n",
       "</table>\n",
       "</div>"
      ],
      "text/plain": [
       "          Date                 Title  \\\n",
       "0   2024.09.17  완전 설레임 두근두근~(♡^--^♡)   \n",
       "1   2024.09.14                 보고싶다~   \n",
       "2   2024.09.13               지민아 사랑해   \n",
       "3   2024.09.13                   짐토버   \n",
       "4   2024.09.12            지민 전시회 좋아요   \n",
       "5   2024.09.12             나무 너무 기대됨   \n",
       "6   2024.09.12        지민이없는지민이생일전시관람   \n",
       "7   2024.09.11                 기대된다~   \n",
       "8   2024.09.11               JIMIN??   \n",
       "9   2024.09.11           Jimin??????   \n",
       "10  2024.09.11                 응 박지민   \n",
       "11  2024.09.11                 드뎌 본다   \n",
       "12  2024.09.11                    지민   \n",
       "13  2024.09.11                  지민아♡   \n",
       "14  2024.09.11        생일날 예매완료♡ 딱 기둘   \n",
       "\n",
       "                                              Content  \n",
       "0                  시간이가 왜 안가지??\\n빨리 가고 싶어요 헤헿(♡^--^♡)  \n",
       "1                         지민이 오늘도 넘보고싶네~\\n기대만땅 전시회!!!  \n",
       "2                                            전시회 가보자구  \n",
       "3                                         두근두근 넘 기대된다  \n",
       "4               우리 지민이 보고싶다ㅠㅠㅠㅠ 전시회로 나마 만날 수 있어 행복합니다  \n",
       "5                        지민이 전시회 빨리 보고싶다\\n날씨도 딱좋고 기대중  \n",
       "6                 지민이생일에 전시회에서라도 지민이 볼 수 있어서 행복합니다 :)  \n",
       "7   생일 주말은 벌써 매진..\\n아쉽지만 다른 날로 예매완료.\\n지민이 보러 빨리 가고...  \n",
       "8        짐토버에 못가서ㅠ 표를 구할수가 없어서ㅠ 아쉽지만\\n19일이 넘 기대가 된다^^  \n",
       "9   I love you Jimin\\nI look forward to seeing you...  \n",
       "10                                               딱기다려  \n",
       "11         솔로활동 제대로 보지 못해 아쉬웠는데\\n이렇게라도 볼 수 있다니 넘 기대된다  \n",
       "12                                           너무 기대되네요  \n",
       "13                                              첫날 고고  \n",
       "14                                               ㅎㅅㅎ♡  "
      ]
     },
     "execution_count": 73,
     "metadata": {},
     "output_type": "execute_result"
    }
   ],
   "source": [
    "import pandas as pd\n",
    "# 모든 <li class=\"bbsItem\"> 요소를 찾음\n",
    "bbs_items = driver.find_elements(By.CSS_SELECTOR, \"li.bbsItem\")\n",
    "\n",
    "# 게시물 정보를 저장할 리스트 초기화\n",
    "data = []\n",
    "\n",
    "# 모든 <li class=\"bbsItem\">에 대해 반복\n",
    "for item in bbs_items:\n",
    "    # 게시물 작성자와 구매자 정보 추출\n",
    "    #name = item.find_element(By.CSS_SELECTOR, \"span.name\").text\n",
    "    # buyer = item.find_element(By.CSS_SELECTOR, \"span.buyer\").text\n",
    "    # 게시물 작성일과 조회수, 댓글수 추출\n",
    "    date = item.find_elements(By.CSS_SELECTOR, \"li.bbsItemInfoList\")[1].text\n",
    "    \n",
    "    #views = item.find_elements(By.CSS_SELECTOR, \"li.bbsItemInfoList\")[2].text\n",
    "    #comments = item.find_elements(By.CSS_SELECTOR, \"li.bbsItemInfoList\")[3].text\n",
    "    \n",
    "    # 게시물 제목과 내용 추출\n",
    "    title = item.find_element(By.CSS_SELECTOR, \"strong.bbsTitleText\").text\n",
    "    content = item.find_element(By.CSS_SELECTOR, \"p.bbsText\").text\n",
    "    \n",
    "    # 추출한 정보를 딕셔너리 형태로 저장\n",
    "    data.append({\n",
    "        #'Name': name,\n",
    "        #'Buyer': buyer,\n",
    "        'Date': date,\n",
    "        #'Views': views,\n",
    "        #'Comments': comments,\n",
    "        'Title': title,\n",
    "        'Content': content\n",
    "    })\n",
    "\n",
    "# DataFrame 생성\n",
    "df = pd.DataFrame(data)\n",
    "\n",
    "# DataFrame 출력\n",
    "df\n"
   ]
  },
  {
   "cell_type": "markdown",
   "id": "f616f4db-ec19-44a7-843e-4146c5c07ef8",
   "metadata": {},
   "source": [
    "### 매크로 및 크롤링"
   ]
  },
  {
   "cell_type": "code",
   "execution_count": 76,
   "id": "dd1da9eb-767c-4920-99a3-279360bc7308",
   "metadata": {},
   "outputs": [],
   "source": [
    "def extract_bbs_data(driver):\n",
    "    \"\"\"\n",
    "    주어진 드라이버를 사용하여 게시물 정보를 추출하고 DataFrame으로 반환하는 함수.\n",
    "\n",
    "    :param driver: Selenium WebDriver\n",
    "    :return: DataFrame containing the extracted data\n",
    "    \"\"\"\n",
    "    # 모든 <li class=\"bbsItem\"> 요소를 찾음\n",
    "    bbs_items = driver.find_elements(By.CSS_SELECTOR, \"li.bbsItem\")\n",
    "\n",
    "    # 게시물 정보를 저장할 리스트 초기화\n",
    "    data = []\n",
    "\n",
    "    # 모든 <li class=\"bbsItem\">에 대해 반복\n",
    "    for item in bbs_items:\n",
    "        # 게시물 작성일과 조회수, 댓글수 추출\n",
    "        date = item.find_elements(By.CSS_SELECTOR, \"li.bbsItemInfoList\")[1].text\n",
    "        views = item.find_elements(By.CSS_SELECTOR, \"li.bbsItemInfoList\")[2].text\n",
    "        comments = item.find_elements(By.CSS_SELECTOR, \"li.bbsItemInfoList\")[3].text\n",
    "        # 게시물 제목과 내용 추출\n",
    "        title = item.find_element(By.CSS_SELECTOR, \"strong.bbsTitleText\").text\n",
    "        content = item.find_element(By.CSS_SELECTOR, \"p.bbsText\").text\n",
    "        \n",
    "        # 추출한 정보를 딕셔너리 형태로 저장\n",
    "        data.append({\n",
    "            'Date': date,\n",
    "            'Title': title,\n",
    "            'Content': content\n",
    "        })\n",
    "\n",
    "    # DataFrame 생성\n",
    "    df = pd.DataFrame(data)\n",
    "    return df"
   ]
  },
  {
   "cell_type": "code",
   "execution_count": 88,
   "id": "8475d6d2-e53d-431c-91e3-cd55a8b6fe0f",
   "metadata": {},
   "outputs": [],
   "source": [
    "import time\n",
    "def click_pages_and_next(driver):\n",
    "    \"\"\"\n",
    "    페이지 번호를 클릭하고 다음 페이지로 이동하는 함수\n",
    "    \"\"\"\n",
    "    while True:\n",
    "        # 페이지 번호 클릭\n",
    "        page_numbers = driver.find_elements(By.CSS_SELECTOR, \"ol.pageNumWrap li\")\n",
    "        \n",
    "        for i in page_numbers:\n",
    "            i.click()  # 페이지 번호 클릭\n",
    "            time.sleep(1)  # 페이지 로딩 대기\n",
    "            \n",
    "        try:\n",
    "            # 다음 페이지 버튼 클릭\n",
    "            next_button = driver.find_element(By.CSS_SELECTOR, \"a.pageNextBtn.pageArrow\")\n",
    "            next_button.click()  # 다음 페이지 버튼 클릭\n",
    "            time.sleep(2)  # 페이지 로딩 대기\n",
    "        except Exception as e:\n",
    "            print(\"No more pages to click:\", e)\n",
    "            break  # 더 이상 페이지가 없으면 루프 종료"
   ]
  },
  {
   "cell_type": "code",
   "execution_count": 90,
   "id": "b1747ba6-6d78-4029-8fa4-1f505d54f30a",
   "metadata": {},
   "outputs": [
    {
     "name": "stdout",
     "output_type": "stream",
     "text": [
      "No more pages to click: Message: no such element: Unable to locate element: {\"method\":\"css selector\",\"selector\":\"a.pageNextBtn.pageArrow\"}\n",
      "  (Session info: chrome=129.0.6668.89); For documentation on this error, please visit: https://www.selenium.dev/documentation/webdriver/troubleshooting/errors#no-such-element-exception\n",
      "Stacktrace:\n",
      "\tGetHandleVerifier [0x01197143+25587]\n",
      "\t(No symbol) [0x0112A2E4]\n",
      "\t(No symbol) [0x01022113]\n",
      "\t(No symbol) [0x01066F62]\n",
      "\t(No symbol) [0x010671AB]\n",
      "\t(No symbol) [0x010A7852]\n",
      "\t(No symbol) [0x0108ABE4]\n",
      "\t(No symbol) [0x010A5370]\n",
      "\t(No symbol) [0x0108A936]\n",
      "\t(No symbol) [0x0105BA73]\n",
      "\t(No symbol) [0x0105C4CD]\n",
      "\tGetHandleVerifier [0x01474C63+3030803]\n",
      "\tGetHandleVerifier [0x014C6B99+3366473]\n",
      "\tGetHandleVerifier [0x012295F2+624802]\n",
      "\tGetHandleVerifier [0x01230E6C+655644]\n",
      "\t(No symbol) [0x01132C9D]\n",
      "\t(No symbol) [0x0112FD68]\n",
      "\t(No symbol) [0x0112FF05]\n",
      "\t(No symbol) [0x01122336]\n",
      "\tBaseThreadInitThunk [0x76ED7BA9+25]\n",
      "\tRtlInitializeExceptionChain [0x77CDC11B+107]\n",
      "\tRtlClearBits [0x77CDC09F+191]\n",
      "\n"
     ]
    }
   ],
   "source": [
    "click_pages_and_next(driver)"
   ]
  },
  {
   "cell_type": "markdown",
   "id": "afd0703f-9ecc-4ff4-a2c3-97807fb3b130",
   "metadata": {},
   "source": [
    "#### 매크로 크롤링 함수"
   ]
  },
  {
   "cell_type": "code",
   "execution_count": 93,
   "id": "1cc06690-b9c0-4ea8-9adf-7f3316443229",
   "metadata": {},
   "outputs": [],
   "source": [
    "def click_pages_and_extract_data(driver):\n",
    "    \"\"\"\n",
    "    페이지 번호를 클릭하고 게시물 정보를 크롤링한 뒤, 다음 페이지로 이동하는 함수.\n",
    "    모든 페이지 번호에 대해 반복하며 게시물 데이터를 추출함.\n",
    "    다음 페이지로 이동할 때도 반복.\n",
    "\n",
    "    :param driver: Selenium WebDriver\n",
    "    :return: 모든 페이지에서 추출한 게시물 정보를 포함한 DataFrame\n",
    "    \"\"\"\n",
    "    # 전체 데이터를 저장할 리스트 초기화\n",
    "    all_data = []\n",
    "\n",
    "    while True:\n",
    "        # 페이지 번호 리스트를 가져옴\n",
    "        page_numbers = driver.find_elements(By.CSS_SELECTOR, \"ol.pageNumWrap li\")\n",
    "\n",
    "        # 각 페이지 번호를 클릭하여 데이터 크롤링\n",
    "        for page in page_numbers:\n",
    "            try:\n",
    "                # 페이지 번호 클릭\n",
    "                page.click()\n",
    "                time.sleep(2)  # 페이지 로딩 대기\n",
    "                \n",
    "                # 현재 페이지에서 게시물 정보 추출\n",
    "                current_page_data = extract_bbs_data(driver)\n",
    "                \n",
    "                # 추출된 데이터를 리스트에 추가\n",
    "                all_data.append(current_page_data)\n",
    "            except Exception as e:\n",
    "                print(f\"Error while clicking page number: {e}\")\n",
    "\n",
    "        # 다음 페이지 버튼을 클릭해 다음 페이지로 이동\n",
    "        try:\n",
    "            next_button = driver.find_element(By.CSS_SELECTOR, \"a.pageNextBtn.pageArrow\")\n",
    "            next_button.click()\n",
    "            time.sleep(2)  # 페이지 로딩 대기\n",
    "        except Exception as e:\n",
    "            print(\"No more pages to click:\", e)\n",
    "            break  # 더 이상 다음 페이지가 없으면 루프 종료\n",
    "\n",
    "    # 리스트에 저장된 모든 DataFrame을 하나의 DataFrame으로 결합\n",
    "    final_df = pd.concat(all_data, ignore_index=True)\n",
    "    return final_df"
   ]
  },
  {
   "cell_type": "code",
   "execution_count": 99,
   "id": "30a40757-12ae-4a3c-8340-3f425f4ee31a",
   "metadata": {},
   "outputs": [
    {
     "name": "stdout",
     "output_type": "stream",
     "text": [
      "No more pages to click: Message: no such element: Unable to locate element: {\"method\":\"css selector\",\"selector\":\"a.pageNextBtn.pageArrow\"}\n",
      "  (Session info: chrome=129.0.6668.89); For documentation on this error, please visit: https://www.selenium.dev/documentation/webdriver/troubleshooting/errors#no-such-element-exception\n",
      "Stacktrace:\n",
      "\tGetHandleVerifier [0x01197143+25587]\n",
      "\t(No symbol) [0x0112A2E4]\n",
      "\t(No symbol) [0x01022113]\n",
      "\t(No symbol) [0x01066F62]\n",
      "\t(No symbol) [0x010671AB]\n",
      "\t(No symbol) [0x010A7852]\n",
      "\t(No symbol) [0x0108ABE4]\n",
      "\t(No symbol) [0x010A5370]\n",
      "\t(No symbol) [0x0108A936]\n",
      "\t(No symbol) [0x0105BA73]\n",
      "\t(No symbol) [0x0105C4CD]\n",
      "\tGetHandleVerifier [0x01474C63+3030803]\n",
      "\tGetHandleVerifier [0x014C6B99+3366473]\n",
      "\tGetHandleVerifier [0x012295F2+624802]\n",
      "\tGetHandleVerifier [0x01230E6C+655644]\n",
      "\t(No symbol) [0x01132C9D]\n",
      "\t(No symbol) [0x0112FD68]\n",
      "\t(No symbol) [0x0112FF05]\n",
      "\t(No symbol) [0x01122336]\n",
      "\tBaseThreadInitThunk [0x76ED7BA9+25]\n",
      "\tRtlInitializeExceptionChain [0x77CDC11B+107]\n",
      "\tRtlClearBits [0x77CDC09F+191]\n",
      "\n"
     ]
    }
   ],
   "source": [
    "# 데이터를 크롤링하여 DataFrame으로 저장\n",
    "df = click_pages_and_extract_data(driver)\n",
    "\n"
   ]
  },
  {
   "cell_type": "code",
   "execution_count": 103,
   "id": "3a195adf-811b-44a0-b6df-29b6ef03dde4",
   "metadata": {},
   "outputs": [
    {
     "data": {
      "text/plain": [
       "(246, 3)"
      ]
     },
     "execution_count": 103,
     "metadata": {},
     "output_type": "execute_result"
    }
   ],
   "source": [
    "df.shape"
   ]
  },
  {
   "cell_type": "code",
   "execution_count": 105,
   "id": "ce347d16-b46a-4454-80a3-245d35449cfb",
   "metadata": {},
   "outputs": [
    {
     "data": {
      "text/html": [
       "<div>\n",
       "<style scoped>\n",
       "    .dataframe tbody tr th:only-of-type {\n",
       "        vertical-align: middle;\n",
       "    }\n",
       "\n",
       "    .dataframe tbody tr th {\n",
       "        vertical-align: top;\n",
       "    }\n",
       "\n",
       "    .dataframe thead th {\n",
       "        text-align: right;\n",
       "    }\n",
       "</style>\n",
       "<table border=\"1\" class=\"dataframe\">\n",
       "  <thead>\n",
       "    <tr style=\"text-align: right;\">\n",
       "      <th></th>\n",
       "      <th>Date</th>\n",
       "      <th>Title</th>\n",
       "      <th>Content</th>\n",
       "    </tr>\n",
       "  </thead>\n",
       "  <tbody>\n",
       "    <tr>\n",
       "      <th>0</th>\n",
       "      <td>2024.09.17</td>\n",
       "      <td>완전 설레임 두근두근~(♡^--^♡)</td>\n",
       "      <td>시간이가 왜 안가지??\\n빨리 가고 싶어요 헤헿(♡^--^♡)</td>\n",
       "    </tr>\n",
       "    <tr>\n",
       "      <th>1</th>\n",
       "      <td>2024.09.14</td>\n",
       "      <td>보고싶다~</td>\n",
       "      <td>지민이 오늘도 넘보고싶네~\\n기대만땅 전시회!!!</td>\n",
       "    </tr>\n",
       "    <tr>\n",
       "      <th>2</th>\n",
       "      <td>2024.09.13</td>\n",
       "      <td>지민아 사랑해</td>\n",
       "      <td>전시회 가보자구</td>\n",
       "    </tr>\n",
       "    <tr>\n",
       "      <th>3</th>\n",
       "      <td>2024.09.13</td>\n",
       "      <td>짐토버</td>\n",
       "      <td>두근두근 넘 기대된다</td>\n",
       "    </tr>\n",
       "    <tr>\n",
       "      <th>4</th>\n",
       "      <td>2024.09.12</td>\n",
       "      <td>지민 전시회 좋아요</td>\n",
       "      <td>우리 지민이 보고싶다ㅠㅠㅠㅠ 전시회로 나마 만날 수 있어 행복합니다</td>\n",
       "    </tr>\n",
       "    <tr>\n",
       "      <th>...</th>\n",
       "      <td>...</td>\n",
       "      <td>...</td>\n",
       "      <td>...</td>\n",
       "    </tr>\n",
       "    <tr>\n",
       "      <th>241</th>\n",
       "      <td>2024.09.09</td>\n",
       "      <td>기다렸어요</td>\n",
       "      <td>지민의 흔적을 볼수있다니♡</td>\n",
       "    </tr>\n",
       "    <tr>\n",
       "      <th>242</th>\n",
       "      <td>2024.09.09</td>\n",
       "      <td>두근두근</td>\n",
       "      <td>기대 기대\\n지민 전시</td>\n",
       "    </tr>\n",
       "    <tr>\n",
       "      <th>243</th>\n",
       "      <td>2024.09.09</td>\n",
       "      <td>드디어 우리 지민이 전시회가!!</td>\n",
       "      <td>벌써부터 넘넘 기대됩니다 두근두근??</td>\n",
       "    </tr>\n",
       "    <tr>\n",
       "      <th>244</th>\n",
       "      <td>2024.09.09</td>\n",
       "      <td>우리 지민이 너무 기대됨</td>\n",
       "      <td>꼭 예매 성공해야지!</td>\n",
       "    </tr>\n",
       "    <tr>\n",
       "      <th>245</th>\n",
       "      <td>2024.09.09</td>\n",
       "      <td>너무 기다린 전시</td>\n",
       "      <td>ㅜㅜ 빨리 가보고 싶네요</td>\n",
       "    </tr>\n",
       "  </tbody>\n",
       "</table>\n",
       "<p>246 rows × 3 columns</p>\n",
       "</div>"
      ],
      "text/plain": [
       "           Date                 Title                                Content\n",
       "0    2024.09.17  완전 설레임 두근두근~(♡^--^♡)     시간이가 왜 안가지??\\n빨리 가고 싶어요 헤헿(♡^--^♡)\n",
       "1    2024.09.14                 보고싶다~            지민이 오늘도 넘보고싶네~\\n기대만땅 전시회!!!\n",
       "2    2024.09.13               지민아 사랑해                               전시회 가보자구\n",
       "3    2024.09.13                   짐토버                            두근두근 넘 기대된다\n",
       "4    2024.09.12            지민 전시회 좋아요  우리 지민이 보고싶다ㅠㅠㅠㅠ 전시회로 나마 만날 수 있어 행복합니다\n",
       "..          ...                   ...                                    ...\n",
       "241  2024.09.09                 기다렸어요                         지민의 흔적을 볼수있다니♡\n",
       "242  2024.09.09                  두근두근                           기대 기대\\n지민 전시\n",
       "243  2024.09.09     드디어 우리 지민이 전시회가!!                   벌써부터 넘넘 기대됩니다 두근두근??\n",
       "244  2024.09.09         우리 지민이 너무 기대됨                            꼭 예매 성공해야지!\n",
       "245  2024.09.09             너무 기다린 전시                          ㅜㅜ 빨리 가보고 싶네요\n",
       "\n",
       "[246 rows x 3 columns]"
      ]
     },
     "execution_count": 105,
     "metadata": {},
     "output_type": "execute_result"
    }
   ],
   "source": [
    "df"
   ]
  },
  {
   "cell_type": "code",
   "execution_count": 107,
   "id": "fea724e2-c002-4fc8-9740-214d0ca3b3f3",
   "metadata": {},
   "outputs": [],
   "source": [
    "# BBS는 Bulletin Board System의 약자입니다. \n",
    "# BBS는 인터넷 초기에 사용되던 온라인 게시판 시스템을 의미\n",
    "# 추출된 데이터를 엑셀 파일로 저장\n",
    "df.to_excel(\"(BTS)Jimin_bbs_data.xlsx\", index=False)"
   ]
  },
  {
   "cell_type": "code",
   "execution_count": null,
   "id": "d081c98b-7794-4eab-9b4a-7be4835f04ba",
   "metadata": {},
   "outputs": [],
   "source": []
  }
 ],
 "metadata": {
  "kernelspec": {
   "display_name": "Python 3 (ipykernel)",
   "language": "python",
   "name": "python3"
  },
  "language_info": {
   "codemirror_mode": {
    "name": "ipython",
    "version": 3
   },
   "file_extension": ".py",
   "mimetype": "text/x-python",
   "name": "python",
   "nbconvert_exporter": "python",
   "pygments_lexer": "ipython3",
   "version": "3.11.7"
  }
 },
 "nbformat": 4,
 "nbformat_minor": 5
}
