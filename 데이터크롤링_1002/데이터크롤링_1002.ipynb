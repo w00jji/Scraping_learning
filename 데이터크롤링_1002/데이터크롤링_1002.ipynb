{
 "cells": [
  {
   "cell_type": "markdown",
   "id": "d9113dfd-0779-4be0-beaf-f6f9ed452987",
   "metadata": {},
   "source": [
    "### 정적 사이트 웹 크롤링\n",
    "\n",
    "- Colab에선 셀레니움 잘 안먹힘\n",
    "- 주피터 환경에서 실행"
   ]
  },
  {
   "cell_type": "code",
   "execution_count": 1,
   "id": "dd6358bc-85b0-4b84-9e95-c5f148588e04",
   "metadata": {
    "collapsed": true,
    "jupyter": {
     "outputs_hidden": true
    },
    "scrolled": true
   },
   "outputs": [
    {
     "name": "stdout",
     "output_type": "stream",
     "text": [
      "Requirement already satisfied: selenium in c:\\users\\campus4d046\\anaconda3\\lib\\site-packages (4.22.0)\n",
      "Requirement already satisfied: urllib3<3,>=1.26 in c:\\users\\campus4d046\\anaconda3\\lib\\site-packages (from urllib3[socks]<3,>=1.26->selenium) (2.0.7)\n",
      "Requirement already satisfied: trio~=0.17 in c:\\users\\campus4d046\\anaconda3\\lib\\site-packages (from selenium) (0.25.1)\n",
      "Requirement already satisfied: trio-websocket~=0.9 in c:\\users\\campus4d046\\anaconda3\\lib\\site-packages (from selenium) (0.11.1)\n",
      "Requirement already satisfied: certifi>=2021.10.8 in c:\\users\\campus4d046\\anaconda3\\lib\\site-packages (from selenium) (2024.6.2)\n",
      "Requirement already satisfied: typing_extensions>=4.9.0 in c:\\users\\campus4d046\\anaconda3\\lib\\site-packages (from selenium) (4.9.0)\n",
      "Requirement already satisfied: websocket-client>=1.8.0 in c:\\users\\campus4d046\\anaconda3\\lib\\site-packages (from selenium) (1.8.0)\n",
      "Requirement already satisfied: attrs>=23.2.0 in c:\\users\\campus4d046\\anaconda3\\lib\\site-packages (from trio~=0.17->selenium) (23.2.0)\n",
      "Requirement already satisfied: sortedcontainers in c:\\users\\campus4d046\\anaconda3\\lib\\site-packages (from trio~=0.17->selenium) (2.4.0)\n",
      "Requirement already satisfied: idna in c:\\users\\campus4d046\\anaconda3\\lib\\site-packages (from trio~=0.17->selenium) (3.4)\n",
      "Requirement already satisfied: outcome in c:\\users\\campus4d046\\anaconda3\\lib\\site-packages (from trio~=0.17->selenium) (1.3.0.post0)\n",
      "Requirement already satisfied: sniffio>=1.3.0 in c:\\users\\campus4d046\\anaconda3\\lib\\site-packages (from trio~=0.17->selenium) (1.3.0)\n",
      "Requirement already satisfied: cffi>=1.14 in c:\\users\\campus4d046\\anaconda3\\lib\\site-packages (from trio~=0.17->selenium) (1.16.0)\n",
      "Requirement already satisfied: wsproto>=0.14 in c:\\users\\campus4d046\\anaconda3\\lib\\site-packages (from trio-websocket~=0.9->selenium) (1.2.0)\n",
      "Requirement already satisfied: pysocks!=1.5.7,<2.0,>=1.5.6 in c:\\users\\campus4d046\\anaconda3\\lib\\site-packages (from urllib3[socks]<3,>=1.26->selenium) (1.7.1)\n",
      "Requirement already satisfied: pycparser in c:\\users\\campus4d046\\anaconda3\\lib\\site-packages (from cffi>=1.14->trio~=0.17->selenium) (2.21)\n",
      "Requirement already satisfied: h11<1,>=0.9.0 in c:\\users\\campus4d046\\anaconda3\\lib\\site-packages (from wsproto>=0.14->trio-websocket~=0.9->selenium) (0.14.0)\n"
     ]
    }
   ],
   "source": [
    "!pip install selenium"
   ]
  },
  {
   "cell_type": "code",
   "execution_count": 5,
   "id": "f7891ac0-a7f1-4b0d-8c3b-66a99b654d28",
   "metadata": {},
   "outputs": [],
   "source": [
    "# 정적 사이트\n",
    "# 동적 사이트 : 매크로(인스타 자동 좋아요, 콘서트 티켓, 자동 블로그 포스팅)\n",
    "# Selenium, Pyautogui, ptperclib\n",
    "\n",
    "from selenium import webdriver\n",
    "from selenium.webdriver.common.by import By\n",
    "from selenium.webdriver.common.keys import Keys\n",
    "\n",
    "driver = webdriver.Chrome()"
   ]
  },
  {
   "cell_type": "code",
   "execution_count": 7,
   "id": "8e820da2-5237-40b8-bf65-71fc093bef86",
   "metadata": {},
   "outputs": [],
   "source": [
    "driver.get('https://www.naver.com/')"
   ]
  },
  {
   "cell_type": "code",
   "execution_count": 12,
   "id": "28dc0aa7-0cdb-4a26-90e5-637d76d51baa",
   "metadata": {},
   "outputs": [],
   "source": [
    "import time\n",
    "search = driver.find_element(By.CSS_SELECTOR, \"input.search_input\")\n",
    "search.send_keys('동대구') # 검색창에 동대구 입력\n",
    "time.sleep(1) # 1초 쉬고\n",
    "search.send_keys(Keys.RETURN) # 엔터"
   ]
  },
  {
   "cell_type": "code",
   "execution_count": 18,
   "id": "a1c1a187-f104-4074-a1e1-35fadd218a91",
   "metadata": {
    "collapsed": true,
    "jupyter": {
     "outputs_hidden": true
    },
    "scrolled": true
   },
   "outputs": [
    {
     "name": "stdout",
     "output_type": "stream",
     "text": [
      "Collecting undetected-chromedriver\n",
      "  Downloading undetected-chromedriver-3.5.5.tar.gz (65 kB)\n",
      "     ---------------------------------------- 0.0/65.4 kB ? eta -:--:--\n",
      "     ----------------- -------------------- 30.7/65.4 kB 660.6 kB/s eta 0:00:01\n",
      "     -------------------------------------- 65.4/65.4 kB 875.7 kB/s eta 0:00:00\n",
      "  Preparing metadata (setup.py): started\n",
      "  Preparing metadata (setup.py): finished with status 'done'\n",
      "Requirement already satisfied: selenium>=4.9.0 in c:\\users\\campus4d046\\anaconda3\\lib\\site-packages (from undetected-chromedriver) (4.22.0)\n",
      "Requirement already satisfied: requests in c:\\users\\campus4d046\\anaconda3\\lib\\site-packages (from undetected-chromedriver) (2.31.0)\n",
      "Collecting websockets (from undetected-chromedriver)\n",
      "  Downloading websockets-13.1-cp311-cp311-win_amd64.whl.metadata (7.0 kB)\n",
      "Requirement already satisfied: urllib3<3,>=1.26 in c:\\users\\campus4d046\\anaconda3\\lib\\site-packages (from urllib3[socks]<3,>=1.26->selenium>=4.9.0->undetected-chromedriver) (2.0.7)\n",
      "Requirement already satisfied: trio~=0.17 in c:\\users\\campus4d046\\anaconda3\\lib\\site-packages (from selenium>=4.9.0->undetected-chromedriver) (0.25.1)\n",
      "Requirement already satisfied: trio-websocket~=0.9 in c:\\users\\campus4d046\\anaconda3\\lib\\site-packages (from selenium>=4.9.0->undetected-chromedriver) (0.11.1)\n",
      "Requirement already satisfied: certifi>=2021.10.8 in c:\\users\\campus4d046\\anaconda3\\lib\\site-packages (from selenium>=4.9.0->undetected-chromedriver) (2024.6.2)\n",
      "Requirement already satisfied: typing_extensions>=4.9.0 in c:\\users\\campus4d046\\anaconda3\\lib\\site-packages (from selenium>=4.9.0->undetected-chromedriver) (4.9.0)\n",
      "Requirement already satisfied: websocket-client>=1.8.0 in c:\\users\\campus4d046\\anaconda3\\lib\\site-packages (from selenium>=4.9.0->undetected-chromedriver) (1.8.0)\n",
      "Requirement already satisfied: charset-normalizer<4,>=2 in c:\\users\\campus4d046\\anaconda3\\lib\\site-packages (from requests->undetected-chromedriver) (2.0.4)\n",
      "Requirement already satisfied: idna<4,>=2.5 in c:\\users\\campus4d046\\anaconda3\\lib\\site-packages (from requests->undetected-chromedriver) (3.4)\n",
      "Requirement already satisfied: attrs>=23.2.0 in c:\\users\\campus4d046\\anaconda3\\lib\\site-packages (from trio~=0.17->selenium>=4.9.0->undetected-chromedriver) (23.2.0)\n",
      "Requirement already satisfied: sortedcontainers in c:\\users\\campus4d046\\anaconda3\\lib\\site-packages (from trio~=0.17->selenium>=4.9.0->undetected-chromedriver) (2.4.0)\n",
      "Requirement already satisfied: outcome in c:\\users\\campus4d046\\anaconda3\\lib\\site-packages (from trio~=0.17->selenium>=4.9.0->undetected-chromedriver) (1.3.0.post0)\n",
      "Requirement already satisfied: sniffio>=1.3.0 in c:\\users\\campus4d046\\anaconda3\\lib\\site-packages (from trio~=0.17->selenium>=4.9.0->undetected-chromedriver) (1.3.0)\n",
      "Requirement already satisfied: cffi>=1.14 in c:\\users\\campus4d046\\anaconda3\\lib\\site-packages (from trio~=0.17->selenium>=4.9.0->undetected-chromedriver) (1.16.0)\n",
      "Requirement already satisfied: wsproto>=0.14 in c:\\users\\campus4d046\\anaconda3\\lib\\site-packages (from trio-websocket~=0.9->selenium>=4.9.0->undetected-chromedriver) (1.2.0)\n",
      "Requirement already satisfied: pysocks!=1.5.7,<2.0,>=1.5.6 in c:\\users\\campus4d046\\anaconda3\\lib\\site-packages (from urllib3[socks]<3,>=1.26->selenium>=4.9.0->undetected-chromedriver) (1.7.1)\n",
      "Requirement already satisfied: pycparser in c:\\users\\campus4d046\\anaconda3\\lib\\site-packages (from cffi>=1.14->trio~=0.17->selenium>=4.9.0->undetected-chromedriver) (2.21)\n",
      "Requirement already satisfied: h11<1,>=0.9.0 in c:\\users\\campus4d046\\anaconda3\\lib\\site-packages (from wsproto>=0.14->trio-websocket~=0.9->selenium>=4.9.0->undetected-chromedriver) (0.14.0)\n",
      "Downloading websockets-13.1-cp311-cp311-win_amd64.whl (159 kB)\n",
      "   ---------------------------------------- 0.0/159.1 kB ? eta -:--:--\n",
      "   ---------------------------------------- 159.1/159.1 kB 4.8 MB/s eta 0:00:00\n",
      "Building wheels for collected packages: undetected-chromedriver\n",
      "  Building wheel for undetected-chromedriver (setup.py): started\n",
      "  Building wheel for undetected-chromedriver (setup.py): finished with status 'done'\n",
      "  Created wheel for undetected-chromedriver: filename=undetected_chromedriver-3.5.5-py3-none-any.whl size=47130 sha256=70d601e591c5c0906221940c5f75be62b99013e4e0db9f91574e0fdee3ca7c9e\n",
      "  Stored in directory: c:\\users\\campus4d046\\appdata\\local\\pip\\cache\\wheels\\5c\\b9\\03\\4b6e38f019d6170e8c25df2e1e362d7bdf9ff4012df2dc85c0\n",
      "Successfully built undetected-chromedriver\n",
      "Installing collected packages: websockets, undetected-chromedriver\n",
      "Successfully installed undetected-chromedriver-3.5.5 websockets-13.1\n"
     ]
    }
   ],
   "source": [
    "!pip install undetected-chromedriver"
   ]
  },
  {
   "cell_type": "markdown",
   "id": "5d9a192f-416a-4afe-801c-b42f71b8c8f4",
   "metadata": {},
   "source": [
    "### 정적 크롤링\n",
    "\n",
    "- https://tickets.interpark.com/goods/24011915\n",
    "\n",
    "- 이 사이트는 기대평을 클릭해도 링크가 변하지 않는다 그래서 셀레니움으로 크롤링해야된다"
   ]
  },
  {
   "cell_type": "code",
   "execution_count": 49,
   "id": "06721042-0ba4-402a-9165-a2644234734d",
   "metadata": {},
   "outputs": [],
   "source": [
    "import undetected_chromedriver as uc # 감지되지않는 크롬드라이버\n",
    "\n",
    "driver = uc.Chrome()"
   ]
  },
  {
   "cell_type": "code",
   "execution_count": 51,
   "id": "f3203bd1-760b-4b37-adc9-f6b016d90f18",
   "metadata": {},
   "outputs": [
    {
     "data": {
      "text/plain": [
       "[<undetected_chromedriver.webelement.WebElement (session=\"291411d363d2fb2022120d6c0da9e386\", element=\"f.9A73D8677D26D4A876BD1D390B45A3BC.d.12E52AF477EFE76B8C7B78B2E9E15DC4.e.347\")>,\n",
       " <undetected_chromedriver.webelement.WebElement (session=\"291411d363d2fb2022120d6c0da9e386\", element=\"f.9A73D8677D26D4A876BD1D390B45A3BC.d.12E52AF477EFE76B8C7B78B2E9E15DC4.e.350\")>,\n",
       " <undetected_chromedriver.webelement.WebElement (session=\"291411d363d2fb2022120d6c0da9e386\", element=\"f.9A73D8677D26D4A876BD1D390B45A3BC.d.12E52AF477EFE76B8C7B78B2E9E15DC4.e.739\")>]"
      ]
     },
     "execution_count": 51,
     "metadata": {},
     "output_type": "execute_result"
    }
   ],
   "source": [
    "driver.find_elements(By.CSS_SELECTOR, \"li.navItem\")"
   ]
  },
  {
   "cell_type": "code",
   "execution_count": 53,
   "id": "633eb272-698e-463f-9f7a-2c605e2c0f5a",
   "metadata": {},
   "outputs": [],
   "source": [
    "for i in driver.find_elements(By.CSS_SELECTOR, \"li.navItem\"):\n",
    "    if \"기대평\" in i.text:\n",
    "        i.click()"
   ]
  },
  {
   "cell_type": "code",
   "execution_count": null,
   "id": "4150105b-9f39-4899-b72f-4500a0cf24ed",
   "metadata": {},
   "outputs": [],
   "source": [
    "#productMainBody > nav > ul > li.navItem.is-active\n",
    "#productMainBody > nav > ul > li.navItem.is-active > a"
   ]
  },
  {
   "cell_type": "markdown",
   "id": "2c1174b4-4767-42c4-8407-a13c8f7d8497",
   "metadata": {},
   "source": [
    "#### 페이지 클릭"
   ]
  },
  {
   "cell_type": "code",
   "execution_count": 90,
   "id": "07c99b58-2f3f-42d2-a002-1e5d143438fe",
   "metadata": {
    "scrolled": true
   },
   "outputs": [
    {
     "data": {
      "text/plain": [
       "[<undetected_chromedriver.webelement.WebElement (session=\"291411d363d2fb2022120d6c0da9e386\", element=\"f.9A73D8677D26D4A876BD1D390B45A3BC.d.12E52AF477EFE76B8C7B78B2E9E15DC4.e.1974\")>,\n",
       " <undetected_chromedriver.webelement.WebElement (session=\"291411d363d2fb2022120d6c0da9e386\", element=\"f.9A73D8677D26D4A876BD1D390B45A3BC.d.12E52AF477EFE76B8C7B78B2E9E15DC4.e.1977\")>,\n",
       " <undetected_chromedriver.webelement.WebElement (session=\"291411d363d2fb2022120d6c0da9e386\", element=\"f.9A73D8677D26D4A876BD1D390B45A3BC.d.12E52AF477EFE76B8C7B78B2E9E15DC4.e.1980\")>,\n",
       " <undetected_chromedriver.webelement.WebElement (session=\"291411d363d2fb2022120d6c0da9e386\", element=\"f.9A73D8677D26D4A876BD1D390B45A3BC.d.12E52AF477EFE76B8C7B78B2E9E15DC4.e.1983\")>,\n",
       " <undetected_chromedriver.webelement.WebElement (session=\"291411d363d2fb2022120d6c0da9e386\", element=\"f.9A73D8677D26D4A876BD1D390B45A3BC.d.12E52AF477EFE76B8C7B78B2E9E15DC4.e.1986\")>,\n",
       " <undetected_chromedriver.webelement.WebElement (session=\"291411d363d2fb2022120d6c0da9e386\", element=\"f.9A73D8677D26D4A876BD1D390B45A3BC.d.12E52AF477EFE76B8C7B78B2E9E15DC4.e.1989\")>,\n",
       " <undetected_chromedriver.webelement.WebElement (session=\"291411d363d2fb2022120d6c0da9e386\", element=\"f.9A73D8677D26D4A876BD1D390B45A3BC.d.12E52AF477EFE76B8C7B78B2E9E15DC4.e.1992\")>,\n",
       " <undetected_chromedriver.webelement.WebElement (session=\"291411d363d2fb2022120d6c0da9e386\", element=\"f.9A73D8677D26D4A876BD1D390B45A3BC.d.12E52AF477EFE76B8C7B78B2E9E15DC4.e.1995\")>,\n",
       " <undetected_chromedriver.webelement.WebElement (session=\"291411d363d2fb2022120d6c0da9e386\", element=\"f.9A73D8677D26D4A876BD1D390B45A3BC.d.12E52AF477EFE76B8C7B78B2E9E15DC4.e.1998\")>,\n",
       " <undetected_chromedriver.webelement.WebElement (session=\"291411d363d2fb2022120d6c0da9e386\", element=\"f.9A73D8677D26D4A876BD1D390B45A3BC.d.12E52AF477EFE76B8C7B78B2E9E15DC4.e.2001\")>]"
      ]
     },
     "execution_count": 90,
     "metadata": {},
     "output_type": "execute_result"
    }
   ],
   "source": [
    "driver.find_element(By.CSS_SELECTOR,\"ol.pageNumWrap\").find_elements(By.CSS_SELECTOR,'li')"
   ]
  },
  {
   "cell_type": "code",
   "execution_count": 92,
   "id": "124429a1-04d3-4cf2-ae27-91b85ddd3d0c",
   "metadata": {},
   "outputs": [],
   "source": [
    "for i in driver.find_element(By.CSS_SELECTOR,\"ol.pageNumWrap\").find_elements(By.CSS_SELECTOR,'li'):\n",
    "    i.click()\n",
    "    time.sleep(1)"
   ]
  },
  {
   "cell_type": "code",
   "execution_count": 94,
   "id": "68360278-e385-4351-828b-5df402409e71",
   "metadata": {},
   "outputs": [],
   "source": [
    "driver.find_element(By.CSS_SELECTOR,\"a.pageNextBtn.pageArrow\").click() # 원래는 pageNextBtn pageArrow 인데 셀레니움은 공백이 있으면 안된다."
   ]
  },
  {
   "cell_type": "code",
   "execution_count": 96,
   "id": "53d024c2-e39c-40e8-a575-366a5ece9efa",
   "metadata": {},
   "outputs": [
    {
     "name": "stdout",
     "output_type": "stream",
     "text": [
      "No more pages to click.\n"
     ]
    }
   ],
   "source": [
    "while True:\n",
    "    # 페이지 번호 클릭\n",
    "    page_numbers = driver.find_elements(By.CSS_SELECTOR, \"ol.pageNumWrap li\")\n",
    "    \n",
    "    for i in page_numbers:\n",
    "        i.click()  # 페이지 번호 클릭\n",
    "        time.sleep(1)  # 페이지 로딩 대기\n",
    "        \n",
    "    try:\n",
    "        # 다음 페이지 버튼 클릭\n",
    "        next_button = driver.find_element(By.CSS_SELECTOR, \"a.pageNextBtn.pageArrow\")\n",
    "        next_button.click()  # 다음 페이지 버튼 클릭\n",
    "        time.sleep(2)  # 페이지 로딩 대기\n",
    "    except:\n",
    "        print(\"No more pages to click.\")\n",
    "        break  # 더 이상 페이지가 없으면 루프 종료"
   ]
  },
  {
   "cell_type": "markdown",
   "id": "2aa3b36f-f372-4d96-9d4e-3fd3ee7702a0",
   "metadata": {},
   "source": [
    "#### 클릭 페이지 함수"
   ]
  },
  {
   "cell_type": "code",
   "execution_count": null,
   "id": "afc87e4e-1a60-49fb-9f56-545ec438364c",
   "metadata": {},
   "outputs": [],
   "source": [
    "import undetected_chromedriver as uc # 감지되지않는 크롬드라이버\n",
    "\n",
    "driver = uc.Chrome()"
   ]
  },
  {
   "cell_type": "code",
   "execution_count": 101,
   "id": "6ea67205-83ff-45d2-8d5f-3ca22748553d",
   "metadata": {},
   "outputs": [],
   "source": [
    "def click_pages_and_next(driver):\n",
    "    \"\"\"\n",
    "    페이지 번호를 클릭하고 다음 페이지로 이동하는 함수\n",
    "    \"\"\"\n",
    "    while True:\n",
    "        # 페이지 번호 클릭\n",
    "        page_numbers = driver.find_elements(By.CSS_SELECTOR, \"ol.pageNumWrap li\")\n",
    "        \n",
    "        for i in page_numbers:\n",
    "            i.click()  # 페이지 번호 클릭\n",
    "            time.sleep(1)  # 페이지 로딩 대기\n",
    "            \n",
    "        try:\n",
    "            # 다음 페이지 버튼 클릭\n",
    "            next_button = driver.find_element(By.CSS_SELECTOR, \"a.pageNextBtn.pageArrow\")\n",
    "            next_button.click()  # 다음 페이지 버튼 클릭\n",
    "            time.sleep(2)  # 페이지 로딩 대기\n",
    "        except Exception as e:\n",
    "            print(\"No more pages to click:\", e)\n",
    "            break  # 더 이상 페이지가 없으면 루프 종료"
   ]
  },
  {
   "cell_type": "code",
   "execution_count": 105,
   "id": "8163740b-7723-48b3-87a0-0623767687d1",
   "metadata": {},
   "outputs": [
    {
     "name": "stdout",
     "output_type": "stream",
     "text": [
      "No more pages to click: Message: no such element: Unable to locate element: {\"method\":\"css selector\",\"selector\":\"a.pageNextBtn.pageArrow\"}\n",
      "  (Session info: chrome=129.0.6668.89); For documentation on this error, please visit: https://www.selenium.dev/documentation/webdriver/troubleshooting/errors#no-such-element-exception\n",
      "Stacktrace:\n",
      "\tGetHandleVerifier [0x01197143+25587]\n",
      "\t(No symbol) [0x0112A2E4]\n",
      "\t(No symbol) [0x01022113]\n",
      "\t(No symbol) [0x01066F62]\n",
      "\t(No symbol) [0x010671AB]\n",
      "\t(No symbol) [0x010A7852]\n",
      "\t(No symbol) [0x0108ABE4]\n",
      "\t(No symbol) [0x010A5370]\n",
      "\t(No symbol) [0x0108A936]\n",
      "\t(No symbol) [0x0105BA73]\n",
      "\t(No symbol) [0x0105C4CD]\n",
      "\tGetHandleVerifier [0x01474C63+3030803]\n",
      "\tGetHandleVerifier [0x014C6B99+3366473]\n",
      "\tGetHandleVerifier [0x012295F2+624802]\n",
      "\tGetHandleVerifier [0x01230E6C+655644]\n",
      "\t(No symbol) [0x01132C9D]\n",
      "\t(No symbol) [0x0112FD68]\n",
      "\t(No symbol) [0x0112FF05]\n",
      "\t(No symbol) [0x01122336]\n",
      "\tBaseThreadInitThunk [0x76ED7BA9+25]\n",
      "\tRtlInitializeExceptionChain [0x77CDC11B+107]\n",
      "\tRtlClearBits [0x77CDC09F+191]\n",
      "\n"
     ]
    }
   ],
   "source": [
    "# 사용자 정의 함수 호출\n",
    "\n",
    "click_pages_and_next(driver)"
   ]
  },
  {
   "cell_type": "markdown",
   "id": "7a6041dc-4fa7-4de3-bacb-18fc5005a366",
   "metadata": {},
   "source": [
    "#### 지민 기대평 크롤링 및 매크로 강사님 풀이"
   ]
  },
  {
   "cell_type": "code",
   "execution_count": null,
   "id": "4a722439-92c8-4c31-8536-bdd32582f7e0",
   "metadata": {},
   "outputs": [],
   "source": [
    "!pip install selenium\n",
    "!pip install undetected-chromedriver"
   ]
  },
  {
   "cell_type": "code",
   "execution_count": 121,
   "id": "e4d67087-0251-4da2-a73f-7d5bea4bcb3c",
   "metadata": {},
   "outputs": [],
   "source": [
    "import undetected_chromedriver as uc # 감지되지않는 크롬드라이버\n",
    "\n",
    "driver = uc.Chrome()"
   ]
  },
  {
   "cell_type": "code",
   "execution_count": 135,
   "id": "75122147-bf4e-4b84-84ad-7e8f798b19ee",
   "metadata": {},
   "outputs": [],
   "source": [
    "total = []\n",
    "\n",
    "while True:\n",
    "\n",
    "    for i in driver.find_element(By.CSS_SELECTOR, \"ol.pageNumWrap\").find_elements(By.CSS_SELECTOR, \"li\"):\n",
    "        i.click()\n",
    "        time.sleep(1)\n",
    "\n",
    "        for r in driver.find_elements(By.CSS_SELECTOR, \"li.bbsItem\"):\n",
    "            title = (r.find_element(By.CSS_SELECTOR, \"strong.bbsTitleText\").text)\n",
    "            content = (r.find_element(By.CSS_SELECTOR, \"p.bbsText\").text.strip())\n",
    "            date = (r.find_elements(By.CSS_SELECTOR, \"li.bbsItemInfoList\")[1].text.strip())\n",
    "            total.append([title, date, content])\n",
    "    try:\n",
    "        driver.find_element(By.CSS_SELECTOR, \"a.pageNextBtn.pageArrow\").click()\n",
    "        time.sleep(1)\n",
    "    except:\n",
    "        break"
   ]
  },
  {
   "cell_type": "code",
   "execution_count": 137,
   "id": "40ce28d9-6e86-4b08-b14d-caea86ded3dc",
   "metadata": {},
   "outputs": [
    {
     "data": {
      "text/plain": [
       "246"
      ]
     },
     "execution_count": 137,
     "metadata": {},
     "output_type": "execute_result"
    }
   ],
   "source": [
    "len(total)"
   ]
  },
  {
   "cell_type": "code",
   "execution_count": 139,
   "id": "904d3220-448a-41b8-8075-ee34848411bb",
   "metadata": {},
   "outputs": [
    {
     "data": {
      "text/html": [
       "<div>\n",
       "<style scoped>\n",
       "    .dataframe tbody tr th:only-of-type {\n",
       "        vertical-align: middle;\n",
       "    }\n",
       "\n",
       "    .dataframe tbody tr th {\n",
       "        vertical-align: top;\n",
       "    }\n",
       "\n",
       "    .dataframe thead th {\n",
       "        text-align: right;\n",
       "    }\n",
       "</style>\n",
       "<table border=\"1\" class=\"dataframe\">\n",
       "  <thead>\n",
       "    <tr style=\"text-align: right;\">\n",
       "      <th></th>\n",
       "      <th>제목</th>\n",
       "      <th>날짜</th>\n",
       "      <th>내용</th>\n",
       "    </tr>\n",
       "  </thead>\n",
       "  <tbody>\n",
       "    <tr>\n",
       "      <th>0</th>\n",
       "      <td>완전 설레임 두근두근~(♡^--^♡)</td>\n",
       "      <td>2024.09.17</td>\n",
       "      <td>시간이가 왜 안가지??\\n빨리 가고 싶어요 헤헿(♡^--^♡)</td>\n",
       "    </tr>\n",
       "    <tr>\n",
       "      <th>1</th>\n",
       "      <td>보고싶다~</td>\n",
       "      <td>2024.09.14</td>\n",
       "      <td>지민이 오늘도 넘보고싶네~\\n기대만땅 전시회!!!</td>\n",
       "    </tr>\n",
       "    <tr>\n",
       "      <th>2</th>\n",
       "      <td>지민아 사랑해</td>\n",
       "      <td>2024.09.13</td>\n",
       "      <td>전시회 가보자구</td>\n",
       "    </tr>\n",
       "    <tr>\n",
       "      <th>3</th>\n",
       "      <td>짐토버</td>\n",
       "      <td>2024.09.13</td>\n",
       "      <td>두근두근 넘 기대된다</td>\n",
       "    </tr>\n",
       "    <tr>\n",
       "      <th>4</th>\n",
       "      <td>지민 전시회 좋아요</td>\n",
       "      <td>2024.09.12</td>\n",
       "      <td>우리 지민이 보고싶다ㅠㅠㅠㅠ 전시회로 나마 만날 수 있어 행복합니다</td>\n",
       "    </tr>\n",
       "    <tr>\n",
       "      <th>...</th>\n",
       "      <td>...</td>\n",
       "      <td>...</td>\n",
       "      <td>...</td>\n",
       "    </tr>\n",
       "    <tr>\n",
       "      <th>241</th>\n",
       "      <td>기다렸어요</td>\n",
       "      <td>2024.09.09</td>\n",
       "      <td>지민의 흔적을 볼수있다니♡</td>\n",
       "    </tr>\n",
       "    <tr>\n",
       "      <th>242</th>\n",
       "      <td>두근두근</td>\n",
       "      <td>2024.09.09</td>\n",
       "      <td>기대 기대\\n지민 전시</td>\n",
       "    </tr>\n",
       "    <tr>\n",
       "      <th>243</th>\n",
       "      <td>드디어 우리 지민이 전시회가!!</td>\n",
       "      <td>2024.09.09</td>\n",
       "      <td>벌써부터 넘넘 기대됩니다 두근두근??</td>\n",
       "    </tr>\n",
       "    <tr>\n",
       "      <th>244</th>\n",
       "      <td>우리 지민이 너무 기대됨</td>\n",
       "      <td>2024.09.09</td>\n",
       "      <td>꼭 예매 성공해야지!</td>\n",
       "    </tr>\n",
       "    <tr>\n",
       "      <th>245</th>\n",
       "      <td>너무 기다린 전시</td>\n",
       "      <td>2024.09.09</td>\n",
       "      <td>ㅜㅜ 빨리 가보고 싶네요</td>\n",
       "    </tr>\n",
       "  </tbody>\n",
       "</table>\n",
       "<p>246 rows × 3 columns</p>\n",
       "</div>"
      ],
      "text/plain": [
       "                       제목          날짜                                     내용\n",
       "0    완전 설레임 두근두근~(♡^--^♡)  2024.09.17     시간이가 왜 안가지??\\n빨리 가고 싶어요 헤헿(♡^--^♡)\n",
       "1                   보고싶다~  2024.09.14            지민이 오늘도 넘보고싶네~\\n기대만땅 전시회!!!\n",
       "2                 지민아 사랑해  2024.09.13                               전시회 가보자구\n",
       "3                     짐토버  2024.09.13                            두근두근 넘 기대된다\n",
       "4              지민 전시회 좋아요  2024.09.12  우리 지민이 보고싶다ㅠㅠㅠㅠ 전시회로 나마 만날 수 있어 행복합니다\n",
       "..                    ...         ...                                    ...\n",
       "241                 기다렸어요  2024.09.09                         지민의 흔적을 볼수있다니♡\n",
       "242                  두근두근  2024.09.09                           기대 기대\\n지민 전시\n",
       "243     드디어 우리 지민이 전시회가!!  2024.09.09                   벌써부터 넘넘 기대됩니다 두근두근??\n",
       "244         우리 지민이 너무 기대됨  2024.09.09                            꼭 예매 성공해야지!\n",
       "245             너무 기다린 전시  2024.09.09                          ㅜㅜ 빨리 가보고 싶네요\n",
       "\n",
       "[246 rows x 3 columns]"
      ]
     },
     "execution_count": 139,
     "metadata": {},
     "output_type": "execute_result"
    }
   ],
   "source": [
    "import pandas as pd\n",
    "\n",
    "pd.DataFrame(total, columns = ['제목','날짜','내용'])"
   ]
  },
  {
   "cell_type": "code",
   "execution_count": null,
   "id": "01c4baca-89f0-4161-a3ff-d9c0528fec07",
   "metadata": {},
   "outputs": [],
   "source": []
  }
 ],
 "metadata": {
  "kernelspec": {
   "display_name": "Python 3 (ipykernel)",
   "language": "python",
   "name": "python3"
  },
  "language_info": {
   "codemirror_mode": {
    "name": "ipython",
    "version": 3
   },
   "file_extension": ".py",
   "mimetype": "text/x-python",
   "name": "python",
   "nbconvert_exporter": "python",
   "pygments_lexer": "ipython3",
   "version": "3.11.7"
  }
 },
 "nbformat": 4,
 "nbformat_minor": 5
}
